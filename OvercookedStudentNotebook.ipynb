{
 "cells": [
  {
   "cell_type": "code",
   "execution_count": null,
   "metadata": {
    "id": "ScQhFpxT5ZkL"
   },
   "outputs": [],
   "source": [
    "#!pip install --upgrade pip setuptools wheel\n",
    "!pip install git+https://github.com/HumanCompatibleAI/overcooked_ai.git\n",
    "!pip install Pillow\n",
    "!pip install matplotlib\n",
    "!pip install IPython\n",
    "!pip install torch"
   ]
  },
  {
   "cell_type": "code",
   "execution_count": 2,
   "metadata": {
    "id": "ScQhFpxT5ZkL"
   },
   "outputs": [],
   "source": [
    "### Imports ###\n",
    "\n",
    "from overcooked_ai_py.mdp.overcooked_mdp import OvercookedGridworld\n",
    "from overcooked_ai_py.mdp.overcooked_env import OvercookedEnv\n",
    "from overcooked_ai_py.agents.benchmarking import AgentEvaluator\n",
    "from overcooked_ai_py.visualization.state_visualizer import StateVisualizer\n",
    "from overcooked_ai_py.agents.agent import NNPolicy, AgentFromPolicy, AgentPair\n",
    "import gym\n",
    "import numpy as np\n",
    "\n",
    "import matplotlib.pyplot as plt\n",
    "from matplotlib.animation import FuncAnimation\n",
    "from IPython.display import display, HTML\n",
    "\n",
    "import torch\n",
    "import torch.nn as nn\n",
    "import torch.optim as optim\n",
    "from collections import deque\n",
    "import random\n",
    "import pdb"
   ]
  },
  {
   "cell_type": "code",
   "execution_count": 3,
   "metadata": {
    "id": "ScQhFpxT5ZkL"
   },
   "outputs": [],
   "source": [
    "import torch\n",
    "from PIL import Image\n",
    "import os\n",
    "from IPython.display import display, Image as IPImage\n",
    "# from google.colab import drive"
   ]
  },
  {
   "cell_type": "code",
   "execution_count": 5,
   "metadata": {
    "id": "ScQhFpxT5ZkL"
   },
   "outputs": [],
   "source": [
    "# Project 2 Deep SARSA\n",
    "# We modify it to be DQN because it makes more sense to be off-policy\n",
    "# Adding an experience buffer to be more efficient with episodes\n",
    "\n",
    "class NN(nn.Module):\n",
    "    def __init__(self, hidden_size):\n",
    "        super(NN, self).__init__()\n",
    "        self.network = nn.Sequential(\n",
    "            nn.Linear(96, hidden_size),\n",
    "            nn.ReLU(),\n",
    "            nn.Linear(hidden_size, 6))\n",
    "\n",
    "    def forward(self, x):\n",
    "        return self.network(x)\n",
    "\n",
    "class ReplayBuffer(object):\n",
    "    def __init__(self, capacity):\n",
    "        self.buffer = deque(maxlen=capacity)\n",
    "\n",
    "    def push(self, state, action, reward, next_state, done):\n",
    "        self.buffer.append((state, action, reward, next_state, done))\n",
    "\n",
    "    def sample(self, batch_size):\n",
    "        return random.sample(self.buffer, batch_size)\n",
    "\n",
    "    def __len__(self):\n",
    "        return len(self.buffer)\n",
    "    \n",
    "class DeepQL(object):\n",
    "    def __init__(self, env, alpha=0.01, gamma=0.98, \n",
    "                 epsilon=1.0, epsilon_decay=0.99, min_epsilon=0.01, \n",
    "                 hidden_size=128, max_iter=1000, buffer_size=10000, batch_size=64):\n",
    "        self.Q = None\n",
    "        self.gamma = gamma\n",
    "        self.epsilon = epsilon\n",
    "        self.epsilon_decay = epsilon_decay\n",
    "        self.env = env\n",
    "        self.tot_rewards = []\n",
    "        self.soups_made = []\n",
    "        self.max_iter = max_iter\n",
    "        self.min_epsilon = min_epsilon\n",
    "        self.replay_buffer = ReplayBuffer(buffer_size)\n",
    "\n",
    "        # NN params\n",
    "        self.q_network = NN(hidden_size)\n",
    "        self.optimizer = optim.Adam(self.q_network.parameters(), lr=alpha)\n",
    "\n",
    "    def solve(self):\n",
    "        iters = 0\n",
    "        converged = False\n",
    "        torch.manual_seed(3)\n",
    "        np.random.seed(3)\n",
    "        while iters < self.max_iter:\n",
    "            done = False\n",
    "            num_soups_made = 0\n",
    "            tot_reward = 0 \n",
    "            state = self.env.reset()\n",
    "\n",
    "            while not done:\n",
    "                state0 = state['both_agent_obs'][0]\n",
    "                state1 = state['both_agent_obs'][1]\n",
    "                a0 = self.next_move(state0)\n",
    "                a1 = self.next_move(state1)\n",
    "\n",
    "                new_state, reward, done, info = self.env.step([a0,a1])\n",
    "                agent_0_reward = info[\"shaped_r_by_agent\"][0] + reward\n",
    "                agent_1_reward = info[\"shaped_r_by_agent\"][1] + reward\n",
    "                num_soups_made += int(reward / 20) # rewards are totaled\n",
    "\n",
    "                tot_reward += agent_0_reward + agent_1_reward + reward\n",
    "                new_state0 = new_state['both_agent_obs'][0]\n",
    "                new_state1 = new_state['both_agent_obs'][1]\n",
    "                \n",
    "                self.replay_buffer.push(state0, a0, agent_0_reward, new_state0, done)\n",
    "                self.replay_buffer.push(state1, a1, agent_1_reward, new_state1, done)\n",
    "                \n",
    "                if len(self.replay_buffer) > self.batch_size:\n",
    "                    experiences = self.replay_buffer.sample(self.batch_size)\n",
    "                    self.learn_from_experiences(experiences)\n",
    "\n",
    "                state = new_state\n",
    "            iters += 1\n",
    "            self.soups_made.append(num_soups_made)\n",
    "            self.tot_rewards.append(tot_reward)\n",
    "            # decay epsilon\n",
    "            self.epsilon = max(self.epsilon_decay * self.epsilon, self.min_epsilon)\n",
    "\n",
    "            # update on training\n",
    "            if iters % 100 == 0:\n",
    "                print('finished ', iters ,' iterations', 'made soups: ', np.mean(self.soups_made[-100:]))\n",
    "                print('tot reward:', np.mean(self.tot_rewards[-100:]))\n",
    "            if iters % 1000 == 0:\n",
    "                plt.plot(self.tot_rewards)\n",
    "                plt.ylabel('Episode Reward')\n",
    "                plt.xlabel('Episodes')\n",
    "                plt.show()\n",
    "    \n",
    "    def next_move(self, state):\n",
    "        ''' returns epsilon greedy move given an np.array state'''\n",
    "        state = torch.FloatTensor(state).unsqueeze(0)\n",
    "        # set the action based on epsilon greedy\n",
    "        if np.random.random() < self.epsilon:\n",
    "            return(self.env.action_space.sample())\n",
    "        else:\n",
    "            # calculate the argmax using torch\n",
    "            with torch.no_grad():\n",
    "                q_values = self.q_network(state)\n",
    "                return(torch.argmax(q_values).item())\n",
    "        \n",
    "    def optimal_move(self, state):\n",
    "        ''' return optimal next move given an np.array state'''\n",
    "        state = torch.FloatTensor(state).unsqueeze(0)\n",
    "        with torch.no_grad():\n",
    "            q_values = self.q_network(state)\n",
    "            return(torch.argmax(q_values).item())\n",
    "        \n",
    "    def learn_from_experiences(self, experiences):\n",
    "        # Unpack experiences and convert them to tensor\n",
    "        states, actions, rewards, next_states, dones = zip(*experiences)\n",
    "        states = torch.FloatTensor(states)\n",
    "        actions = torch.LongTensor(actions)\n",
    "        rewards = torch.FloatTensor(rewards)\n",
    "        next_states = torch.FloatTensor(next_states)\n",
    "        dones = torch.FloatTensor(dones)\n",
    "\n",
    "        # Compute Q values for current states\n",
    "        current_q_values = self.q_network(states).gather(1, actions.unsqueeze(1)).squeeze(1)\n",
    "        \n",
    "        # Compute Q values for next states\n",
    "        next_q_values = self.q_network(next_states).detach().max(1)[0]\n",
    "        next_q_values[dones] = 0  # Zero out Q-values where done is true\n",
    "\n",
    "        # Compute the target Q values\n",
    "        target_q_values = rewards + self.gamma * next_q_values\n",
    "\n",
    "        # Compute loss and backpropagate\n",
    "        loss = F.mse_loss(current_q_values, target_q_values)\n",
    "        self.optimizer.zero_grad()\n",
    "        loss.backward()\n",
    "        self.optimizer.step()"
   ]
  },
  {
   "cell_type": "code",
   "execution_count": 6,
   "metadata": {
    "colab": {
     "base_uri": "https://localhost:8080/"
    },
    "id": "aAr6oW-Y5b3C",
    "outputId": "7911ca18-d251-4655-b988-bfaa5b3fce63"
   },
   "outputs": [
    {
     "ename": "TypeError",
     "evalue": "object.__new__() takes exactly one argument (the type to instantiate)",
     "output_type": "error",
     "traceback": [
      "\u001b[1;31m---------------------------------------------------------------------------\u001b[0m",
      "\u001b[1;31mTypeError\u001b[0m                                 Traceback (most recent call last)",
      "\u001b[1;32m<ipython-input-6-433fbbaa3a8f>\u001b[0m in \u001b[0;36m<module>\u001b[1;34m\u001b[0m\n\u001b[0;32m     24\u001b[0m \u001b[0mmdp\u001b[0m \u001b[1;33m=\u001b[0m \u001b[0mOvercookedGridworld\u001b[0m\u001b[1;33m.\u001b[0m\u001b[0mfrom_layout_name\u001b[0m\u001b[1;33m(\u001b[0m\u001b[0mlayout\u001b[0m\u001b[1;33m,\u001b[0m \u001b[0mrew_shaping_params\u001b[0m\u001b[1;33m=\u001b[0m\u001b[0mreward_shaping\u001b[0m\u001b[1;33m)\u001b[0m\u001b[1;33m\u001b[0m\u001b[1;33m\u001b[0m\u001b[0m\n\u001b[0;32m     25\u001b[0m \u001b[0mbase_env\u001b[0m \u001b[1;33m=\u001b[0m \u001b[0mOvercookedEnv\u001b[0m\u001b[1;33m.\u001b[0m\u001b[0mfrom_mdp\u001b[0m\u001b[1;33m(\u001b[0m\u001b[0mmdp\u001b[0m\u001b[1;33m,\u001b[0m \u001b[0mhorizon\u001b[0m\u001b[1;33m=\u001b[0m\u001b[0mhorizon\u001b[0m\u001b[1;33m,\u001b[0m \u001b[0minfo_level\u001b[0m\u001b[1;33m=\u001b[0m\u001b[1;36m0\u001b[0m\u001b[1;33m)\u001b[0m\u001b[1;33m\u001b[0m\u001b[1;33m\u001b[0m\u001b[0m\n\u001b[1;32m---> 26\u001b[1;33m \u001b[0menv\u001b[0m \u001b[1;33m=\u001b[0m \u001b[0mgym\u001b[0m\u001b[1;33m.\u001b[0m\u001b[0mmake\u001b[0m\u001b[1;33m(\u001b[0m\u001b[1;34m\"Overcooked-v0\"\u001b[0m\u001b[1;33m,\u001b[0m \u001b[0mbase_env\u001b[0m\u001b[1;33m=\u001b[0m\u001b[0mbase_env\u001b[0m\u001b[1;33m,\u001b[0m \u001b[0mfeaturize_fn\u001b[0m\u001b[1;33m=\u001b[0m\u001b[0mbase_env\u001b[0m\u001b[1;33m.\u001b[0m\u001b[0mfeaturize_state_mdp\u001b[0m\u001b[1;33m)\u001b[0m\u001b[1;33m\u001b[0m\u001b[1;33m\u001b[0m\u001b[0m\n\u001b[0m",
      "\u001b[1;32m~\\AppData\\Local\\Continuum\\anaconda3\\lib\\site-packages\\gym\\envs\\registration.py\u001b[0m in \u001b[0;36mmake\u001b[1;34m(id, max_episode_steps, autoreset, apply_api_compatibility, disable_env_checker, **kwargs)\u001b[0m\n\u001b[0;32m    650\u001b[0m             )\n\u001b[0;32m    651\u001b[0m         \u001b[1;32melse\u001b[0m\u001b[1;33m:\u001b[0m\u001b[1;33m\u001b[0m\u001b[1;33m\u001b[0m\u001b[0m\n\u001b[1;32m--> 652\u001b[1;33m             \u001b[1;32mraise\u001b[0m \u001b[0me\u001b[0m\u001b[1;33m\u001b[0m\u001b[1;33m\u001b[0m\u001b[0m\n\u001b[0m\u001b[0;32m    653\u001b[0m \u001b[1;33m\u001b[0m\u001b[0m\n\u001b[0;32m    654\u001b[0m     \u001b[1;31m# Copies the environment creation specification and kwargs to add to the environment specification details\u001b[0m\u001b[1;33m\u001b[0m\u001b[1;33m\u001b[0m\u001b[1;33m\u001b[0m\u001b[0m\n",
      "\u001b[1;32m~\\AppData\\Local\\Continuum\\anaconda3\\lib\\site-packages\\gym\\envs\\registration.py\u001b[0m in \u001b[0;36mmake\u001b[1;34m(id, max_episode_steps, autoreset, apply_api_compatibility, disable_env_checker, **kwargs)\u001b[0m\n\u001b[0;32m    638\u001b[0m \u001b[1;33m\u001b[0m\u001b[0m\n\u001b[0;32m    639\u001b[0m     \u001b[1;32mtry\u001b[0m\u001b[1;33m:\u001b[0m\u001b[1;33m\u001b[0m\u001b[1;33m\u001b[0m\u001b[0m\n\u001b[1;32m--> 640\u001b[1;33m         \u001b[0menv\u001b[0m \u001b[1;33m=\u001b[0m \u001b[0menv_creator\u001b[0m\u001b[1;33m(\u001b[0m\u001b[1;33m**\u001b[0m\u001b[0m_kwargs\u001b[0m\u001b[1;33m)\u001b[0m\u001b[1;33m\u001b[0m\u001b[1;33m\u001b[0m\u001b[0m\n\u001b[0m\u001b[0;32m    641\u001b[0m     \u001b[1;32mexcept\u001b[0m \u001b[0mTypeError\u001b[0m \u001b[1;32mas\u001b[0m \u001b[0me\u001b[0m\u001b[1;33m:\u001b[0m\u001b[1;33m\u001b[0m\u001b[1;33m\u001b[0m\u001b[0m\n\u001b[0;32m    642\u001b[0m         if (\n",
      "\u001b[1;32m~\\AppData\\Local\\Continuum\\anaconda3\\lib\\typing.py\u001b[0m in \u001b[0;36m__new__\u001b[1;34m(cls, *args, **kwds)\u001b[0m\n\u001b[0;32m    811\u001b[0m             \u001b[0mobj\u001b[0m \u001b[1;33m=\u001b[0m \u001b[0msuper\u001b[0m\u001b[1;33m(\u001b[0m\u001b[1;33m)\u001b[0m\u001b[1;33m.\u001b[0m\u001b[0m__new__\u001b[0m\u001b[1;33m(\u001b[0m\u001b[0mcls\u001b[0m\u001b[1;33m)\u001b[0m\u001b[1;33m\u001b[0m\u001b[1;33m\u001b[0m\u001b[0m\n\u001b[0;32m    812\u001b[0m         \u001b[1;32melse\u001b[0m\u001b[1;33m:\u001b[0m\u001b[1;33m\u001b[0m\u001b[1;33m\u001b[0m\u001b[0m\n\u001b[1;32m--> 813\u001b[1;33m             \u001b[0mobj\u001b[0m \u001b[1;33m=\u001b[0m \u001b[0msuper\u001b[0m\u001b[1;33m(\u001b[0m\u001b[1;33m)\u001b[0m\u001b[1;33m.\u001b[0m\u001b[0m__new__\u001b[0m\u001b[1;33m(\u001b[0m\u001b[0mcls\u001b[0m\u001b[1;33m,\u001b[0m \u001b[1;33m*\u001b[0m\u001b[0margs\u001b[0m\u001b[1;33m,\u001b[0m \u001b[1;33m**\u001b[0m\u001b[0mkwds\u001b[0m\u001b[1;33m)\u001b[0m\u001b[1;33m\u001b[0m\u001b[1;33m\u001b[0m\u001b[0m\n\u001b[0m\u001b[0;32m    814\u001b[0m         \u001b[1;32mreturn\u001b[0m \u001b[0mobj\u001b[0m\u001b[1;33m\u001b[0m\u001b[1;33m\u001b[0m\u001b[0m\n\u001b[0;32m    815\u001b[0m \u001b[1;33m\u001b[0m\u001b[0m\n",
      "\u001b[1;31mTypeError\u001b[0m: object.__new__() takes exactly one argument (the type to instantiate)"
     ]
    }
   ],
   "source": [
    "### Environment setup ###\n",
    "\n",
    "# Swap between the 5 layouts here:\n",
    "layout = \"cramped_room\"\n",
    "# layout = \"asymmetric_advantages\"\n",
    "# layout = \"coordination_ring\"\n",
    "# layout = \"forced_coordination\"\n",
    "# layout = \"counter_circuit_o_1order\"\n",
    "\n",
    "# Reward shaping is disabled by default.  This data structure may be used for\n",
    "# reward shaping.  You can, of course, do your own reward shaping in lieu of, or\n",
    "# in addition to, using this structure.\n",
    "reward_shaping = {\n",
    "    \"PLACEMENT_IN_POT_REW\": 2,\n",
    "    \"DISH_PICKUP_REWARD\": 3,\n",
    "    \"SOUP_PICKUP_REWARD\": 4\n",
    "}\n",
    "\n",
    "# Length of Episodes.  Do not modify for your submission!\n",
    "# Modification will result in a grading penalty!\n",
    "horizon = 400\n",
    "\n",
    "# Build the environment.  Do not modify!\n",
    "mdp = OvercookedGridworld.from_layout_name(layout, rew_shaping_params=reward_shaping)\n",
    "base_env = OvercookedEnv.from_mdp(mdp, horizon=horizon, info_level=0)\n",
    "env = gym.make(\"Overcooked-v0\", base_env=base_env, featurize_fn=base_env.featurize_state_mdp)"
   ]
  },
  {
   "cell_type": "code",
   "execution_count": 95,
   "metadata": {
    "colab": {
     "base_uri": "https://localhost:8080/"
    },
    "id": "aAr6oW-Y5b3C",
    "outputId": "7911ca18-d251-4655-b988-bfaa5b3fce63"
   },
   "outputs": [
    {
     "name": "stdout",
     "output_type": "stream",
     "text": [
      "finished  100  iterations made soups:  0.0\n",
      "tot reward: 5.73\n",
      "finished  200  iterations made soups:  0.0\n",
      "tot reward: 5.53\n",
      "finished  300  iterations made soups:  0.0\n",
      "tot reward: 2.54\n",
      "finished  400  iterations made soups:  0.0\n",
      "tot reward: 0.64\n",
      "finished  500  iterations made soups:  0.0\n",
      "tot reward: 1.23\n",
      "finished  600  iterations made soups:  0.0\n",
      "tot reward: 1.27\n",
      "finished  700  iterations made soups:  0.0\n",
      "tot reward: 1.17\n",
      "finished  800  iterations made soups:  0.0\n",
      "tot reward: 1.21\n",
      "finished  900  iterations made soups:  0.0\n",
      "tot reward: 1.0\n",
      "finished  1000  iterations made soups:  0.0\n",
      "tot reward: 1.1\n"
     ]
    },
    {
     "data": {
      "image/png": "[encoded data removed]",
      "text/plain": [
       "<Figure size 640x480 with 1 Axes>"
      ]
     },
     "metadata": {},
     "output_type": "display_data"
    }
   ],
   "source": [
    "a = DeepSarsa(env, alpha=0.001, gamma=0.99, \n",
    "             epsilon=0.99, epsilon_decay=0.99, min_epsilon=0.01, \n",
    "             hidden_size=128, max_iter=1000)\n",
    "a.solve()"
   ]
  },
  {
   "cell_type": "code",
   "execution_count": null,
   "metadata": {
    "colab": {
     "base_uri": "https://localhost:8080/"
    },
    "id": "aAr6oW-Y5b3C",
    "outputId": "7911ca18-d251-4655-b988-bfaa5b3fce63"
   },
   "outputs": [],
   "source": [
    "a.q_network.state_dict()"
   ]
  },
  {
   "cell_type": "code",
   "execution_count": 44,
   "metadata": {
    "colab": {
     "base_uri": "https://localhost:8080/"
    },
    "id": "8EsQPGw35fKS",
    "outputId": "b884a703-622d-4e57-e62e-58146c61a72c"
   },
   "outputs": [
    {
     "ename": "SyntaxError",
     "evalue": "expected ':' (3931249060.py, line 37)",
     "output_type": "error",
     "traceback": [
      "\u001b[1;36m  Cell \u001b[1;32mIn[44], line 37\u001b[1;36m\u001b[0m\n\u001b[1;33m    if env.agent_idx == 0\u001b[0m\n\u001b[1;37m                         ^\u001b[0m\n\u001b[1;31mSyntaxError\u001b[0m\u001b[1;31m:\u001b[0m expected ':'\n"
     ]
    }
   ],
   "source": [
    "### Train your agent ###\n",
    "\n",
    "# The code below runs a few episodes with a random agent.  Your learning algorithm\n",
    "# would go here.\n",
    "\n",
    "num_episodes = 5\n",
    "torch.manual_seed(3)\n",
    "np.random.seed(3)\n",
    "for e in range(num_episodes):\n",
    "    # Episode termination flag\n",
    "    done = False\n",
    "\n",
    "    # The number of soups the agent pair made during the episode\n",
    "    num_soups_made = 0\n",
    "\n",
    "    # Reset the environment at the start of each episode\n",
    "    obs = env.reset()\n",
    "\n",
    "    while not done:\n",
    "        # Obtain observations for each agent\n",
    "        obs0 = obs[\"both_agent_obs\"][0]\n",
    "        obs1 = obs[\"both_agent_obs\"][1]\n",
    "        # Select random actions from the set {North, South, East, West, Stay, Interact}\n",
    "        # for each agent.\n",
    "        \n",
    "        \n",
    "        a0 = env.action_space.sample()\n",
    "        a1 = env.action_space.sample()\n",
    "\n",
    "        # Take the selected actions and receive feedback from the environment\n",
    "        # The returned reward \"R\" only reflects completed soups.  You can find\n",
    "        # the separate shaping rewards in the \"info\" variables\n",
    "        # info[\"shaped_r_by_agent\"][0] and info[\"shaped_r_by_agent\"][1].  Note that\n",
    "        # this shaping reward does *not* include the +20 reward for completed\n",
    "        # soups returned in \"R\".\n",
    "        obs, R, done, info = env.step([a0, a1])\n",
    "        if env.agent_idx == 0:\n",
    "            agent_0_reward = info[\"shaped_r_by_agent\"][0] + R\n",
    "        if env.agent_idx == 1:\n",
    "            agent_0_reward = info[\"shaped_r_by_agent\"][1] + R\n",
    "        # Accumulate the number of soups made\n",
    "        num_soups_made += int(R / 20) # Each served soup generates 20 reward\n",
    "\n",
    "    # Display status\n",
    "    print(\"Ep {0}\".format(e + 1), end=\" \")\n",
    "    print(\"number of soups made: {0}\".format(num_soups_made))\n",
    "\n",
    "# The info flag returned by the environemnt contains special status info\n",
    "# specifically when done == True.  This information may be useful in\n",
    "# developing, debugging, and analyzing your results.  It may also be a good\n",
    "# way for you to find a metric that you can use in evaluating collaboration\n",
    "# between your agents.\n",
    "print(\"\\nExample info dump:\\n\\n\", info)"
   ]
  },
  {
   "cell_type": "code",
   "execution_count": 100,
   "metadata": {
    "colab": {
     "base_uri": "https://localhost:8080/"
    },
    "id": "8EsQPGw35fKS",
    "outputId": "b884a703-622d-4e57-e62e-58146c61a72c"
   },
   "outputs": [
    {
     "data": {
      "text/plain": [
       "1"
      ]
     },
     "execution_count": 100,
     "metadata": {},
     "output_type": "execute_result"
    }
   ],
   "source": [
    "env.agent_idx"
   ]
  },
  {
   "cell_type": "code",
   "execution_count": null,
   "metadata": {
    "colab": {
     "base_uri": "https://localhost:8080/"
    },
    "id": "8EsQPGw35fKS",
    "outputId": "b884a703-622d-4e57-e62e-58146c61a72c"
   },
   "outputs": [],
   "source": [
    "state = env.reset()"
   ]
  },
  {
   "cell_type": "code",
   "execution_count": 111,
   "metadata": {
    "colab": {
     "base_uri": "https://localhost:8080/"
    },
    "id": "8EsQPGw35fKS",
    "outputId": "b884a703-622d-4e57-e62e-58146c61a72c"
   },
   "outputs": [
    {
     "ename": "AttributeError",
     "evalue": "'Overcooked' object has no attribute 'featurize_state_mdp'",
     "output_type": "error",
     "traceback": [
      "\u001b[1;31m---------------------------------------------------------------------------\u001b[0m",
      "\u001b[1;31mAttributeError\u001b[0m                            Traceback (most recent call last)",
      "Cell \u001b[1;32mIn[111], line 1\u001b[0m\n\u001b[1;32m----> 1\u001b[0m env\u001b[38;5;241m.\u001b[39mfeaturize_state_mdp(state)\n",
      "File \u001b[1;32m~\\miniconda3\\envs\\rl3\\Lib\\site-packages\\gym\\core.py:241\u001b[0m, in \u001b[0;36mWrapper.__getattr__\u001b[1;34m(self, name)\u001b[0m\n\u001b[0;32m    239\u001b[0m \u001b[38;5;28;01mif\u001b[39;00m name\u001b[38;5;241m.\u001b[39mstartswith(\u001b[38;5;124m\"\u001b[39m\u001b[38;5;124m_\u001b[39m\u001b[38;5;124m\"\u001b[39m):\n\u001b[0;32m    240\u001b[0m     \u001b[38;5;28;01mraise\u001b[39;00m \u001b[38;5;167;01mAttributeError\u001b[39;00m(\u001b[38;5;124mf\u001b[39m\u001b[38;5;124m\"\u001b[39m\u001b[38;5;124maccessing private attribute \u001b[39m\u001b[38;5;124m'\u001b[39m\u001b[38;5;132;01m{\u001b[39;00mname\u001b[38;5;132;01m}\u001b[39;00m\u001b[38;5;124m'\u001b[39m\u001b[38;5;124m is prohibited\u001b[39m\u001b[38;5;124m\"\u001b[39m)\n\u001b[1;32m--> 241\u001b[0m \u001b[38;5;28;01mreturn\u001b[39;00m \u001b[38;5;28mgetattr\u001b[39m(\u001b[38;5;28mself\u001b[39m\u001b[38;5;241m.\u001b[39menv, name)\n",
      "File \u001b[1;32m~\\miniconda3\\envs\\rl3\\Lib\\site-packages\\gym\\core.py:241\u001b[0m, in \u001b[0;36mWrapper.__getattr__\u001b[1;34m(self, name)\u001b[0m\n\u001b[0;32m    239\u001b[0m \u001b[38;5;28;01mif\u001b[39;00m name\u001b[38;5;241m.\u001b[39mstartswith(\u001b[38;5;124m\"\u001b[39m\u001b[38;5;124m_\u001b[39m\u001b[38;5;124m\"\u001b[39m):\n\u001b[0;32m    240\u001b[0m     \u001b[38;5;28;01mraise\u001b[39;00m \u001b[38;5;167;01mAttributeError\u001b[39;00m(\u001b[38;5;124mf\u001b[39m\u001b[38;5;124m\"\u001b[39m\u001b[38;5;124maccessing private attribute \u001b[39m\u001b[38;5;124m'\u001b[39m\u001b[38;5;132;01m{\u001b[39;00mname\u001b[38;5;132;01m}\u001b[39;00m\u001b[38;5;124m'\u001b[39m\u001b[38;5;124m is prohibited\u001b[39m\u001b[38;5;124m\"\u001b[39m)\n\u001b[1;32m--> 241\u001b[0m \u001b[38;5;28;01mreturn\u001b[39;00m \u001b[38;5;28mgetattr\u001b[39m(\u001b[38;5;28mself\u001b[39m\u001b[38;5;241m.\u001b[39menv, name)\n",
      "\u001b[1;31mAttributeError\u001b[0m: 'Overcooked' object has no attribute 'featurize_state_mdp'"
     ]
    }
   ],
   "source": [
    "env.featurize_state_mdp(state)"
   ]
  },
  {
   "cell_type": "code",
   "execution_count": 87,
   "metadata": {
    "colab": {
     "base_uri": "https://localhost:8080/"
    },
    "id": "2GpPoWGp5hzZ",
    "outputId": "8740bde7-e4f1-438b-b574-5ea2b879d576"
   },
   "outputs": [
    {
     "name": "stderr",
     "output_type": "stream",
     "text": [
      "\r",
      "  0%|                                                                                            | 0/1 [00:00<?, ?it/s]"
     ]
    },
    {
     "name": "stdout",
     "output_type": "stream",
     "text": [
      "Computing MotionPlanner to be saved in C:\\Users\\brand\\miniconda3\\envs\\rl3\\Lib\\site-packages\\overcooked_ai_py\\data\\planners\\cramped_room_mp.pkl\n",
      "It took 0.05194282531738281 seconds to create mp\n"
     ]
    },
    {
     "name": "stderr",
     "output_type": "stream",
     "text": [
      "Avg rew: 0.00 (std: 0.00, se: 0.00); avg len: 400.00; : 100%|████████████████████████████| 1/1 [00:00<00:00,  1.76it/s]"
     ]
    },
    {
     "name": "stdout",
     "output_type": "stream",
     "text": [
      "\n",
      "len(trajs): 10\n"
     ]
    },
    {
     "name": "stderr",
     "output_type": "stream",
     "text": [
      "\n"
     ]
    }
   ],
   "source": [
    "### Evaluate your agent ###\n",
    "\n",
    "# This is where you would rollout episodes with your trained agent.\n",
    "# The below code is a partcular way to rollout episodes in a format\n",
    "# compatible with a state visualizer, if you'd like to visualize what your\n",
    "# agents are doing during episodes.  Visualization is in the next cell.\n",
    "\n",
    "class StudentPolicy(NNPolicy):\n",
    "    \"\"\" Generate policy \"\"\"\n",
    "    def __init__(self):\n",
    "        super(StudentPolicy, self).__init__()\n",
    "\n",
    "    def state_policy(self, state, agent_index):\n",
    "        \"\"\"\n",
    "        This method should be used to generate the poiicy vector corresponding to\n",
    "        the state and agent_index provided as input.  If you're using a neural\n",
    "        network-based solution, the specifics depend on the algorithm you are using.\n",
    "        Below are two commented examples, the first for a policy gradient algorithm\n",
    "        and the second for a value-based algorithm.  In policy gradient algorithms,\n",
    "        the neural networks output a policy directly.  In value-based algorithms,\n",
    "        the policy must be derived from the Q value outputs of the networks.  The\n",
    "        uncommented code below is a placeholder that generates a random policy.\n",
    "        \"\"\"\n",
    "        featurized_state = base_env.featurize_state_mdp(state)\n",
    "        input_state = torch.FloatTensor(featurized_state[agent_index]).unsqueeze(0)\n",
    "        # Example for policy NNs named \"PNN0\" and \"PNN1\"\n",
    "        # with torch.no_grad():\n",
    "        #   if agent_index == 0:\n",
    "        #       action_probs = PNN0(input_state)[0].numpy()\n",
    "        #   else:\n",
    "        #       action_probs = PNN1(input_state)[0].numpy()\n",
    "\n",
    "        # Example for Q value NNs named \"QNN0\" and \"QNN1\"\n",
    "        # action_probs = np.zeros(env.action_space.n)\n",
    "        # with torch.no_grad():\n",
    "        #   if agent_index == 0:\n",
    "        #       action_probs[np.argmax(QNN0(input_state)[0].numpy())] = 1\n",
    "        #   else:\n",
    "        #       action_probs[np.argmax(QNN1(input_state)[0].numpy())] = 1\n",
    "\n",
    "        # Random deterministic policy\n",
    "        action = a.optimal_move(featurized_state[agent_index])\n",
    "\n",
    "        action_probs = np.zeros(env.action_space.n)\n",
    "        action_probs[action] = 1\n",
    "        return action_probs\n",
    "\n",
    "    def multi_state_policy(self, states, agent_indices):\n",
    "        \"\"\" Generate a policy for a list of states and agent indices \"\"\"\n",
    "        return [self.state_policy(state, agent_index) for state, agent_index in zip(states, agent_indices)]\n",
    "\n",
    "\n",
    "class StudentAgent(AgentFromPolicy):\n",
    "    \"\"\"Create an agent using the policy created by the class above\"\"\"\n",
    "    def __init__(self, policy):\n",
    "        super(StudentAgent, self).__init__(policy)\n",
    "\n",
    "\n",
    "# Instantiate the policies for both agents\n",
    "policy0 = StudentPolicy()\n",
    "policy1 = StudentPolicy()\n",
    "\n",
    "# Instantiate both agents\n",
    "agent0 = StudentAgent(policy0)\n",
    "agent1 = StudentAgent(policy1)\n",
    "agent_pair = AgentPair(agent0, agent1)\n",
    "\n",
    "# Generate an episode\n",
    "ae = AgentEvaluator.from_layout_name({\"layout_name\": layout}, {\"horizon\": horizon})\n",
    "trajs = ae.evaluate_agent_pair(agent_pair, num_games=1)\n",
    "print(\"\\nlen(trajs):\", len(trajs))"
   ]
  },
  {
   "cell_type": "code",
   "execution_count": 88,
   "metadata": {
    "colab": {
     "base_uri": "https://localhost:8080/",
     "height": 449,
     "referenced_widgets": [
      "d95eed92e92c4706ad8ee1bd04896fb9",
      "b89775d306234467a5d4a8e323c68a7f",
      "e057de46a3ab400a90f0b3825abb3a86",
      "157dbf180aff4a828aab31fdcb9ac0d3",
      "c6c1c771703c4e3a8252201ef35c7e96",
      "5b3ce327c12942578d96d7e45004e1c3",
      "02dc32f4c00747f482364f29f0e2a4b3"
     ]
    },
    "id": "T1ZvcY9d5lhy",
    "outputId": "38a0d849-514c-4552-a523-063c6a314f08"
   },
   "outputs": [
    {
     "data": {
      "application/vnd.jupyter.widget-view+json": {
       "model_id": "d331efce3ca942478d541ed4a48df918",
       "version_major": 2,
       "version_minor": 0
      },
      "text/plain": [
       "interactive(children=(IntSlider(value=0, description='timestep', max=399), Output()), _dom_classes=('widget-in…"
      ]
     },
     "metadata": {},
     "output_type": "display_data"
    }
   ],
   "source": [
    "### Agent Visualization ###\n",
    "\n",
    "##############################################################################\n",
    "# The function StateVisualizer() below generates images for the state of the\n",
    "# environment at each time step of the episode.\n",
    "#\n",
    "# You have several options for how to use these images:\n",
    "#\n",
    "# 1) You can set img_dir to a local directory (or a directory within Google Drive\n",
    "# if using Colab), and all the images will be saved to that directory for you to browse.\n",
    "#\n",
    "# 2) If using a notebook, you can set the argument ipthon_display=True to get a\n",
    "# tool with a slider that lets you scan through all the images directly in the\n",
    "# notebook.  This option does not require you to store your images.\n",
    "#\n",
    "# 3) You can generate a GIF of the episode. This requires you to set\n",
    "# img_dir.  The code to generate the GIF is commented out below\n",
    "\n",
    "# Modify as appropriate\n",
    "img_dir = None\n",
    "ipython_display = True\n",
    "gif_path = None\n",
    "\n",
    "# Do not modify -- uncomment for GIF generation\n",
    "StateVisualizer().display_rendered_trajectory(trajs, img_directory_path=img_dir, ipython_display=ipython_display)\n",
    "#img_list = [f for f in os.listdir(img_dir) if f.endswith('.png')]\n",
    "#img_list.sort(key=lambda x: os.path.getmtime(os.path.join(img_dir, x)))\n",
    "#images = [Image.open(img_dir + img).convert('RGBA') for img in img_list]\n",
    "# images[0].save(gif_path, save_all=True, append_images=images[1:], optimize=False, duration=250, loop=0)\n",
    "# with open(gif_path,'rb') as f: display(IPImage(data=f.read(), format='png'))"
   ]
  },
  {
   "cell_type": "code",
   "execution_count": 7,
   "metadata": {
    "colab": {
     "base_uri": "https://localhost:8080/"
    },
    "id": "kK3DnXmbTDPd",
    "outputId": "c5e7da62-1356-4287-d3b0-efd9391a7a7a"
   },
   "outputs": [
    {
     "name": "stdout",
     "output_type": "stream",
     "text": [
      "ep_actions\n",
      "ep_infos\n",
      "ep_states\n",
      "ep_lengths\n",
      "ep_returns\n",
      "mdp_params\n",
      "ep_dones\n",
      "env_params\n",
      "metadatas\n",
      "ep_rewards\n"
     ]
    }
   ],
   "source": [
    "for key in trajs:\n",
    "  print(key)"
   ]
  },
  {
   "cell_type": "code",
   "execution_count": 14,
   "metadata": {
    "colab": {
     "base_uri": "https://localhost:8080/",
     "height": 225
    },
    "id": "mIKoZ3PATNWE",
    "outputId": "557d8336-3d1a-4010-fb43-5133812e11dc"
   },
   "outputs": [
    {
     "data": {
      "application/json": {
       "cell": {
        "!": "OSMagics",
        "HTML": "Other",
        "SVG": "Other",
        "bash": "Other",
        "capture": "ExecutionMagics",
        "cmd": "Other",
        "code_wrap": "ExecutionMagics",
        "debug": "ExecutionMagics",
        "file": "Other",
        "html": "DisplayMagics",
        "javascript": "DisplayMagics",
        "js": "DisplayMagics",
        "latex": "DisplayMagics",
        "markdown": "DisplayMagics",
        "perl": "Other",
        "prun": "ExecutionMagics",
        "pypy": "Other",
        "python": "Other",
        "python2": "Other",
        "python3": "Other",
        "ruby": "Other",
        "script": "ScriptMagics",
        "sh": "Other",
        "svg": "DisplayMagics",
        "sx": "OSMagics",
        "system": "OSMagics",
        "time": "ExecutionMagics",
        "timeit": "ExecutionMagics",
        "writefile": "OSMagics"
       },
       "line": {
        "alias": "OSMagics",
        "alias_magic": "BasicMagics",
        "autoawait": "AsyncMagics",
        "autocall": "AutoMagics",
        "automagic": "AutoMagics",
        "autosave": "KernelMagics",
        "bookmark": "OSMagics",
        "cd": "OSMagics",
        "clear": "KernelMagics",
        "cls": "KernelMagics",
        "code_wrap": "ExecutionMagics",
        "colors": "BasicMagics",
        "conda": "PackagingMagics",
        "config": "ConfigMagics",
        "connect_info": "KernelMagics",
        "copy": "Other",
        "ddir": "Other",
        "debug": "ExecutionMagics",
        "dhist": "OSMagics",
        "dirs": "OSMagics",
        "doctest_mode": "BasicMagics",
        "echo": "Other",
        "ed": "Other",
        "edit": "KernelMagics",
        "env": "OSMagics",
        "gui": "BasicMagics",
        "hist": "Other",
        "history": "HistoryMagics",
        "killbgscripts": "ScriptMagics",
        "ldir": "Other",
        "less": "KernelMagics",
        "load": "CodeMagics",
        "load_ext": "ExtensionMagics",
        "loadpy": "CodeMagics",
        "logoff": "LoggingMagics",
        "logon": "LoggingMagics",
        "logstart": "LoggingMagics",
        "logstate": "LoggingMagics",
        "logstop": "LoggingMagics",
        "ls": "Other",
        "lsmagic": "BasicMagics",
        "macro": "ExecutionMagics",
        "magic": "BasicMagics",
        "matplotlib": "PylabMagics",
        "mkdir": "Other",
        "more": "KernelMagics",
        "notebook": "BasicMagics",
        "page": "BasicMagics",
        "pastebin": "CodeMagics",
        "pdb": "ExecutionMagics",
        "pdef": "NamespaceMagics",
        "pdoc": "NamespaceMagics",
        "pfile": "NamespaceMagics",
        "pinfo": "NamespaceMagics",
        "pinfo2": "NamespaceMagics",
        "pip": "PackagingMagics",
        "popd": "OSMagics",
        "pprint": "BasicMagics",
        "precision": "BasicMagics",
        "prun": "ExecutionMagics",
        "psearch": "NamespaceMagics",
        "psource": "NamespaceMagics",
        "pushd": "OSMagics",
        "pwd": "OSMagics",
        "pycat": "OSMagics",
        "pylab": "PylabMagics",
        "qtconsole": "KernelMagics",
        "quickref": "BasicMagics",
        "recall": "HistoryMagics",
        "rehashx": "OSMagics",
        "reload_ext": "ExtensionMagics",
        "ren": "Other",
        "rep": "Other",
        "rerun": "HistoryMagics",
        "reset": "NamespaceMagics",
        "reset_selective": "NamespaceMagics",
        "rmdir": "Other",
        "run": "ExecutionMagics",
        "save": "CodeMagics",
        "sc": "OSMagics",
        "set_env": "OSMagics",
        "store": "StoreMagics",
        "sx": "OSMagics",
        "system": "OSMagics",
        "tb": "ExecutionMagics",
        "time": "ExecutionMagics",
        "timeit": "ExecutionMagics",
        "unalias": "OSMagics",
        "unload_ext": "ExtensionMagics",
        "who": "NamespaceMagics",
        "who_ls": "NamespaceMagics",
        "whos": "NamespaceMagics",
        "xdel": "NamespaceMagics",
        "xmode": "BasicMagics"
       }
      },
      "text/plain": [
       "Available line magics:\n",
       "%alias  %alias_magic  %autoawait  %autocall  %automagic  %autosave  %bookmark  %cd  %clear  %cls  %code_wrap  %colors  %conda  %config  %connect_info  %copy  %ddir  %debug  %dhist  %dirs  %doctest_mode  %echo  %ed  %edit  %env  %gui  %hist  %history  %killbgscripts  %ldir  %less  %load  %load_ext  %loadpy  %logoff  %logon  %logstart  %logstate  %logstop  %ls  %lsmagic  %macro  %magic  %matplotlib  %mkdir  %more  %notebook  %page  %pastebin  %pdb  %pdef  %pdoc  %pfile  %pinfo  %pinfo2  %pip  %popd  %pprint  %precision  %prun  %psearch  %psource  %pushd  %pwd  %pycat  %pylab  %qtconsole  %quickref  %recall  %rehashx  %reload_ext  %ren  %rep  %rerun  %reset  %reset_selective  %rmdir  %run  %save  %sc  %set_env  %store  %sx  %system  %tb  %time  %timeit  %unalias  %unload_ext  %who  %who_ls  %whos  %xdel  %xmode\n",
       "\n",
       "Available cell magics:\n",
       "%%!  %%HTML  %%SVG  %%bash  %%capture  %%cmd  %%code_wrap  %%debug  %%file  %%html  %%javascript  %%js  %%latex  %%markdown  %%perl  %%prun  %%pypy  %%python  %%python2  %%python3  %%ruby  %%script  %%sh  %%svg  %%sx  %%system  %%time  %%timeit  %%writefile\n",
       "\n",
       "Automagic is ON, % prefix IS NOT needed for line magics."
      ]
     },
     "execution_count": 14,
     "metadata": {},
     "output_type": "execute_result"
    }
   ],
   "source": [
    "%lsmagic"
   ]
  },
  {
   "cell_type": "code",
   "execution_count": 15,
   "metadata": {
    "colab": {
     "base_uri": "https://localhost:8080/"
    },
    "id": "OMWK2r0yVO_3",
    "outputId": "6e1cda01-5b8d-4e1e-f07d-2f9a75599876"
   },
   "outputs": [
    {
     "name": "stdout",
     "output_type": "stream",
     "text": [
      "Package               Version\n",
      "--------------------- ------------\n",
      "aiofiles              22.1.0\n",
      "aiosqlite             0.18.0\n",
      "anyio                 3.5.0\n",
      "argon2-cffi           21.3.0\n",
      "argon2-cffi-bindings  21.2.0\n",
      "asttokens             2.0.5\n",
      "attrs                 23.1.0\n",
      "Babel                 2.11.0\n",
      "backcall              0.2.0\n",
      "beautifulsoup4        4.12.2\n",
      "bleach                4.1.0\n",
      "Brotli                1.0.9\n",
      "certifi               2023.7.22\n",
      "cffi                  1.15.1\n",
      "charset-normalizer    2.0.4\n",
      "cloudpickle           3.0.0\n",
      "colorama              0.4.6\n",
      "comm                  0.1.2\n",
      "cryptography          41.0.3\n",
      "debugpy               1.6.7\n",
      "decorator             5.1.1\n",
      "defusedxml            0.7.1\n",
      "dill                  0.3.7\n",
      "entrypoints           0.4\n",
      "executing             0.8.3\n",
      "Farama-Notifications  0.0.4\n",
      "fastjsonschema        2.16.2\n",
      "filelock              3.13.1\n",
      "fsspec                2023.10.0\n",
      "gym                   0.26.2\n",
      "gym-notices           0.0.8\n",
      "gymnasium             0.29.1\n",
      "idna                  3.4\n",
      "install               1.3.5\n",
      "ipykernel             6.25.0\n",
      "ipython               8.15.0\n",
      "ipython-genutils      0.2.0\n",
      "ipywidgets            8.0.4\n",
      "jedi                  0.18.1\n",
      "Jinja2                3.1.2\n",
      "json5                 0.9.6\n",
      "jsonschema            4.17.3\n",
      "jupyter               1.0.0\n",
      "jupyter_client        7.4.9\n",
      "jupyter-console       6.6.3\n",
      "jupyter_core          5.5.0\n",
      "jupyter-events        0.6.3\n",
      "jupyter-server        1.23.4\n",
      "jupyter_server_fileid 0.9.0\n",
      "jupyter_server_ydoc   0.8.0\n",
      "jupyter-ydoc          0.2.4\n",
      "jupyterlab            3.6.3\n",
      "jupyterlab-pygments   0.1.2\n",
      "jupyterlab_server     2.22.0\n",
      "jupyterlab-widgets    3.0.5\n",
      "MarkupSafe            2.1.1\n",
      "matplotlib-inline     0.1.6\n",
      "mistune               2.0.4\n",
      "mpmath                1.3.0\n",
      "nbclassic             0.5.5\n",
      "nbclient              0.8.0\n",
      "nbconvert             7.10.0\n",
      "nbformat              5.9.2\n",
      "nest-asyncio          1.5.6\n",
      "networkx              3.2.1\n",
      "notebook              6.5.4\n",
      "notebook_shim         0.2.2\n",
      "numpy                 1.26.1\n",
      "opencv-python         4.8.1.78\n",
      "overcooked-ai         1.1.0\n",
      "packaging             23.1\n",
      "pandocfilters         1.5.0\n",
      "parso                 0.8.3\n",
      "pettingzoo            1.24.1\n",
      "pickleshare           0.7.5\n",
      "Pillow                10.1.0\n",
      "pip                   23.3\n",
      "platformdirs          3.10.0\n",
      "ply                   3.11\n",
      "prometheus-client     0.14.1\n",
      "prompt-toolkit        3.0.36\n",
      "psutil                5.9.0\n",
      "pure-eval             0.2.2\n",
      "pycparser             2.21\n",
      "pygame                2.5.2\n",
      "Pygments              2.15.1\n",
      "pyOpenSSL             23.2.0\n",
      "PyQt5                 5.15.10\n",
      "PyQt5-sip             12.13.0\n",
      "pyrsistent            0.18.0\n",
      "PySocks               1.7.1\n",
      "python-dateutil       2.8.2\n",
      "python-json-logger    2.0.7\n",
      "pytz                  2023.3.post1\n",
      "pywin32               305.1\n",
      "pywinpty              2.0.10\n",
      "PyYAML                6.0.1\n",
      "pyzmq                 23.2.0\n",
      "qtconsole             5.4.2\n",
      "QtPy                  2.2.0\n",
      "requests              2.31.0\n",
      "rfc3339-validator     0.1.4\n",
      "rfc3986-validator     0.1.1\n",
      "scipy                 1.11.3\n",
      "Send2Trash            1.8.0\n",
      "setuptools            68.0.0\n",
      "sip                   6.7.12\n",
      "six                   1.16.0\n",
      "sniffio               1.2.0\n",
      "soupsieve             2.5\n",
      "stack-data            0.2.0\n",
      "sympy                 1.12\n",
      "terminado             0.17.1\n",
      "tinycss2              1.2.1\n",
      "torch                 2.1.0\n",
      "tornado               6.3.3\n",
      "tqdm                  4.66.1\n",
      "traitlets             5.7.1\n",
      "typing_extensions     4.7.1\n",
      "urllib3               1.26.18\n",
      "wcwidth               0.2.5\n",
      "webencodings          0.5.1\n",
      "websocket-client      0.58.0\n",
      "wheel                 0.41.2\n",
      "widgetsnbextension    4.0.5\n",
      "win-inet-pton         1.1.0\n",
      "y-py                  0.5.9\n",
      "ypy-websocket         0.8.2\n",
      "Note: you may need to restart the kernel to use updated packages.\n"
     ]
    }
   ],
   "source": [
    "pip list"
   ]
  },
  {
   "cell_type": "code",
   "execution_count": null,
   "metadata": {},
   "outputs": [],
   "source": []
  }
 ],
 "metadata": {
  "colab": {
   "provenance": []
  },
  "kernelspec": {
   "display_name": "Python 3",
   "language": "python",
   "name": "python3"
  },
  "language_info": {
   "codemirror_mode": {
    "name": "ipython",
    "version": 3
   },
   "file_extension": ".py",
   "mimetype": "text/x-python",
   "name": "python",
   "nbconvert_exporter": "python",
   "pygments_lexer": "ipython3",
   "version": "3.7.3"
  },
  "widgets": {
   "application/vnd.jupyter.widget-state+json": {
    "02dc32f4c00747f482364f29f0e2a4b3": {
     "model_module": "@jupyter-widgets/base",
     "model_module_version": "1.2.0",
     "model_name": "LayoutModel",
     "state": {
      "_model_module": "@jupyter-widgets/base",
      "_model_module_version": "1.2.0",
      "_model_name": "LayoutModel",
      "_view_count": null,
      "_view_module": "@jupyter-widgets/base",
      "_view_module_version": "1.2.0",
      "_view_name": "LayoutView",
      "align_content": null,
      "align_items": null,
      "align_self": null,
      "border": null,
      "bottom": null,
      "display": null,
      "flex": null,
      "flex_flow": null,
      "grid_area": null,
      "grid_auto_columns": null,
      "grid_auto_flow": null,
      "grid_auto_rows": null,
      "grid_column": null,
      "grid_gap": null,
      "grid_row": null,
      "grid_template_areas": null,
      "grid_template_columns": null,
      "grid_template_rows": null,
      "height": null,
      "justify_content": null,
      "justify_items": null,
      "left": null,
      "margin": null,
      "max_height": null,
      "max_width": null,
      "min_height": null,
      "min_width": null,
      "object_fit": null,
      "object_position": null,
      "order": null,
      "overflow": null,
      "overflow_x": null,
      "overflow_y": null,
      "padding": null,
      "right": null,
      "top": null,
      "visibility": null,
      "width": null
     }
    },
    "157dbf180aff4a828aab31fdcb9ac0d3": {
     "model_module": "@jupyter-widgets/base",
     "model_module_version": "1.2.0",
     "model_name": "LayoutModel",
     "state": {
      "_model_module": "@jupyter-widgets/base",
      "_model_module_version": "1.2.0",
      "_model_name": "LayoutModel",
      "_view_count": null,
      "_view_module": "@jupyter-widgets/base",
      "_view_module_version": "1.2.0",
      "_view_name": "LayoutView",
      "align_content": null,
      "align_items": null,
      "align_self": null,
      "border": null,
      "bottom": null,
      "display": null,
      "flex": null,
      "flex_flow": null,
      "grid_area": null,
      "grid_auto_columns": null,
      "grid_auto_flow": null,
      "grid_auto_rows": null,
      "grid_column": null,
      "grid_gap": null,
      "grid_row": null,
      "grid_template_areas": null,
      "grid_template_columns": null,
      "grid_template_rows": null,
      "height": null,
      "justify_content": null,
      "justify_items": null,
      "left": null,
      "margin": null,
      "max_height": null,
      "max_width": null,
      "min_height": null,
      "min_width": null,
      "object_fit": null,
      "object_position": null,
      "order": null,
      "overflow": null,
      "overflow_x": null,
      "overflow_y": null,
      "padding": null,
      "right": null,
      "top": null,
      "visibility": null,
      "width": null
     }
    },
    "5b3ce327c12942578d96d7e45004e1c3": {
     "model_module": "@jupyter-widgets/controls",
     "model_module_version": "1.5.0",
     "model_name": "SliderStyleModel",
     "state": {
      "_model_module": "@jupyter-widgets/controls",
      "_model_module_version": "1.5.0",
      "_model_name": "SliderStyleModel",
      "_view_count": null,
      "_view_module": "@jupyter-widgets/base",
      "_view_module_version": "1.2.0",
      "_view_name": "StyleView",
      "description_width": "",
      "handle_color": null
     }
    },
    "b89775d306234467a5d4a8e323c68a7f": {
     "model_module": "@jupyter-widgets/controls",
     "model_module_version": "1.5.0",
     "model_name": "IntSliderModel",
     "state": {
      "_dom_classes": [],
      "_model_module": "@jupyter-widgets/controls",
      "_model_module_version": "1.5.0",
      "_model_name": "IntSliderModel",
      "_view_count": null,
      "_view_module": "@jupyter-widgets/controls",
      "_view_module_version": "1.5.0",
      "_view_name": "IntSliderView",
      "continuous_update": true,
      "description": "timestep",
      "description_tooltip": null,
      "disabled": false,
      "layout": "IPY_MODEL_c6c1c771703c4e3a8252201ef35c7e96",
      "max": 399,
      "min": 0,
      "orientation": "horizontal",
      "readout": true,
      "readout_format": "d",
      "step": 1,
      "style": "IPY_MODEL_5b3ce327c12942578d96d7e45004e1c3",
      "value": 19
     }
    },
    "c6c1c771703c4e3a8252201ef35c7e96": {
     "model_module": "@jupyter-widgets/base",
     "model_module_version": "1.2.0",
     "model_name": "LayoutModel",
     "state": {
      "_model_module": "@jupyter-widgets/base",
      "_model_module_version": "1.2.0",
      "_model_name": "LayoutModel",
      "_view_count": null,
      "_view_module": "@jupyter-widgets/base",
      "_view_module_version": "1.2.0",
      "_view_name": "LayoutView",
      "align_content": null,
      "align_items": null,
      "align_self": null,
      "border": null,
      "bottom": null,
      "display": null,
      "flex": null,
      "flex_flow": null,
      "grid_area": null,
      "grid_auto_columns": null,
      "grid_auto_flow": null,
      "grid_auto_rows": null,
      "grid_column": null,
      "grid_gap": null,
      "grid_row": null,
      "grid_template_areas": null,
      "grid_template_columns": null,
      "grid_template_rows": null,
      "height": null,
      "justify_content": null,
      "justify_items": null,
      "left": null,
      "margin": null,
      "max_height": null,
      "max_width": null,
      "min_height": null,
      "min_width": null,
      "object_fit": null,
      "object_position": null,
      "order": null,
      "overflow": null,
      "overflow_x": null,
      "overflow_y": null,
      "padding": null,
      "right": null,
      "top": null,
      "visibility": null,
      "width": null
     }
    },
    "d95eed92e92c4706ad8ee1bd04896fb9": {
     "model_module": "@jupyter-widgets/controls",
     "model_module_version": "1.5.0",
     "model_name": "VBoxModel",
     "state": {
      "_dom_classes": [
       "widget-interact"
      ],
      "_model_module": "@jupyter-widgets/controls",
      "_model_module_version": "1.5.0",
      "_model_name": "VBoxModel",
      "_view_count": null,
      "_view_module": "@jupyter-widgets/controls",
      "_view_module_version": "1.5.0",
      "_view_name": "VBoxView",
      "box_style": "",
      "children": [
       "IPY_MODEL_b89775d306234467a5d4a8e323c68a7f",
       "IPY_MODEL_e057de46a3ab400a90f0b3825abb3a86"
      ],
      "layout": "IPY_MODEL_157dbf180aff4a828aab31fdcb9ac0d3"
     }
    },
    "e057de46a3ab400a90f0b3825abb3a86": {
     "model_module": "@jupyter-widgets/output",
     "model_module_version": "1.0.0",
     "model_name": "OutputModel",
     "state": {
      "_dom_classes": [],
      "_model_module": "@jupyter-widgets/output",
      "_model_module_version": "1.0.0",
      "_model_name": "OutputModel",
      "_view_count": null,
      "_view_module": "@jupyter-widgets/output",
      "_view_module_version": "1.0.0",
      "_view_name": "OutputView",
      "layout": "IPY_MODEL_02dc32f4c00747f482364f29f0e2a4b3",
      "msg_id": "",
      "outputs": [
       {
        "data": {
         "image/png": "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\n",
         "text/plain": "<IPython.core.display.Image object>"
        },
        "metadata": {},
        "output_type": "display_data"
       }
      ]
     }
    }
   }
  }
 },
 "nbformat": 4,
 "nbformat_minor": 1
}
